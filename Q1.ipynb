{
  "nbformat": 4,
  "nbformat_minor": 0,
  "metadata": {
    "colab": {
      "provenance": [],
      "authorship_tag": "ABX9TyPVLGVUTTlFf/ThY8qcOzSW",
      "include_colab_link": true
    },
    "kernelspec": {
      "name": "python3",
      "display_name": "Python 3"
    },
    "language_info": {
      "name": "python"
    },
    "widgets": {
      "application/vnd.jupyter.widget-state+json": {
        "d4d32cdbea564cb9b8b9adc79c915981": {
          "model_module": "@jupyter-widgets/controls",
          "model_name": "HBoxModel",
          "model_module_version": "1.5.0",
          "state": {
            "_dom_classes": [],
            "_model_module": "@jupyter-widgets/controls",
            "_model_module_version": "1.5.0",
            "_model_name": "HBoxModel",
            "_view_count": null,
            "_view_module": "@jupyter-widgets/controls",
            "_view_module_version": "1.5.0",
            "_view_name": "HBoxView",
            "box_style": "",
            "children": [
              "IPY_MODEL_1f8a203108a24d79beb7f6e5571043fb",
              "IPY_MODEL_35a91059163748c8bdce1dd6022310be",
              "IPY_MODEL_e92ad704292b4d13b3c3587f416bf671"
            ],
            "layout": "IPY_MODEL_cee5bb737d094ab9a70e81766e9e3bfb"
          }
        },
        "1f8a203108a24d79beb7f6e5571043fb": {
          "model_module": "@jupyter-widgets/controls",
          "model_name": "HTMLModel",
          "model_module_version": "1.5.0",
          "state": {
            "_dom_classes": [],
            "_model_module": "@jupyter-widgets/controls",
            "_model_module_version": "1.5.0",
            "_model_name": "HTMLModel",
            "_view_count": null,
            "_view_module": "@jupyter-widgets/controls",
            "_view_module_version": "1.5.0",
            "_view_name": "HTMLView",
            "description": "",
            "description_tooltip": null,
            "layout": "IPY_MODEL_21bda1daa9ee480b925c5b7f54be19e3",
            "placeholder": "​",
            "style": "IPY_MODEL_c816eaee681846979df3a29f45158730",
            "value": "Map: 100%"
          }
        },
        "35a91059163748c8bdce1dd6022310be": {
          "model_module": "@jupyter-widgets/controls",
          "model_name": "FloatProgressModel",
          "model_module_version": "1.5.0",
          "state": {
            "_dom_classes": [],
            "_model_module": "@jupyter-widgets/controls",
            "_model_module_version": "1.5.0",
            "_model_name": "FloatProgressModel",
            "_view_count": null,
            "_view_module": "@jupyter-widgets/controls",
            "_view_module_version": "1.5.0",
            "_view_name": "ProgressView",
            "bar_style": "success",
            "description": "",
            "description_tooltip": null,
            "layout": "IPY_MODEL_8992b900607f4c558141eb5a765ba1c1",
            "max": 1364,
            "min": 0,
            "orientation": "horizontal",
            "style": "IPY_MODEL_57d04601cc9240f1a274c145d6a7dbdd",
            "value": 1364
          }
        },
        "e92ad704292b4d13b3c3587f416bf671": {
          "model_module": "@jupyter-widgets/controls",
          "model_name": "HTMLModel",
          "model_module_version": "1.5.0",
          "state": {
            "_dom_classes": [],
            "_model_module": "@jupyter-widgets/controls",
            "_model_module_version": "1.5.0",
            "_model_name": "HTMLModel",
            "_view_count": null,
            "_view_module": "@jupyter-widgets/controls",
            "_view_module_version": "1.5.0",
            "_view_name": "HTMLView",
            "description": "",
            "description_tooltip": null,
            "layout": "IPY_MODEL_2726abc96823490eb9a10b6c1950bde0",
            "placeholder": "​",
            "style": "IPY_MODEL_6287ff80ab384793b5a024aa2df1b12a",
            "value": " 1364/1364 [00:02&lt;00:00, 707.30 examples/s]"
          }
        },
        "cee5bb737d094ab9a70e81766e9e3bfb": {
          "model_module": "@jupyter-widgets/base",
          "model_name": "LayoutModel",
          "model_module_version": "1.2.0",
          "state": {
            "_model_module": "@jupyter-widgets/base",
            "_model_module_version": "1.2.0",
            "_model_name": "LayoutModel",
            "_view_count": null,
            "_view_module": "@jupyter-widgets/base",
            "_view_module_version": "1.2.0",
            "_view_name": "LayoutView",
            "align_content": null,
            "align_items": null,
            "align_self": null,
            "border": null,
            "bottom": null,
            "display": null,
            "flex": null,
            "flex_flow": null,
            "grid_area": null,
            "grid_auto_columns": null,
            "grid_auto_flow": null,
            "grid_auto_rows": null,
            "grid_column": null,
            "grid_gap": null,
            "grid_row": null,
            "grid_template_areas": null,
            "grid_template_columns": null,
            "grid_template_rows": null,
            "height": null,
            "justify_content": null,
            "justify_items": null,
            "left": null,
            "margin": null,
            "max_height": null,
            "max_width": null,
            "min_height": null,
            "min_width": null,
            "object_fit": null,
            "object_position": null,
            "order": null,
            "overflow": null,
            "overflow_x": null,
            "overflow_y": null,
            "padding": null,
            "right": null,
            "top": null,
            "visibility": null,
            "width": null
          }
        },
        "21bda1daa9ee480b925c5b7f54be19e3": {
          "model_module": "@jupyter-widgets/base",
          "model_name": "LayoutModel",
          "model_module_version": "1.2.0",
          "state": {
            "_model_module": "@jupyter-widgets/base",
            "_model_module_version": "1.2.0",
            "_model_name": "LayoutModel",
            "_view_count": null,
            "_view_module": "@jupyter-widgets/base",
            "_view_module_version": "1.2.0",
            "_view_name": "LayoutView",
            "align_content": null,
            "align_items": null,
            "align_self": null,
            "border": null,
            "bottom": null,
            "display": null,
            "flex": null,
            "flex_flow": null,
            "grid_area": null,
            "grid_auto_columns": null,
            "grid_auto_flow": null,
            "grid_auto_rows": null,
            "grid_column": null,
            "grid_gap": null,
            "grid_row": null,
            "grid_template_areas": null,
            "grid_template_columns": null,
            "grid_template_rows": null,
            "height": null,
            "justify_content": null,
            "justify_items": null,
            "left": null,
            "margin": null,
            "max_height": null,
            "max_width": null,
            "min_height": null,
            "min_width": null,
            "object_fit": null,
            "object_position": null,
            "order": null,
            "overflow": null,
            "overflow_x": null,
            "overflow_y": null,
            "padding": null,
            "right": null,
            "top": null,
            "visibility": null,
            "width": null
          }
        },
        "c816eaee681846979df3a29f45158730": {
          "model_module": "@jupyter-widgets/controls",
          "model_name": "DescriptionStyleModel",
          "model_module_version": "1.5.0",
          "state": {
            "_model_module": "@jupyter-widgets/controls",
            "_model_module_version": "1.5.0",
            "_model_name": "DescriptionStyleModel",
            "_view_count": null,
            "_view_module": "@jupyter-widgets/base",
            "_view_module_version": "1.2.0",
            "_view_name": "StyleView",
            "description_width": ""
          }
        },
        "8992b900607f4c558141eb5a765ba1c1": {
          "model_module": "@jupyter-widgets/base",
          "model_name": "LayoutModel",
          "model_module_version": "1.2.0",
          "state": {
            "_model_module": "@jupyter-widgets/base",
            "_model_module_version": "1.2.0",
            "_model_name": "LayoutModel",
            "_view_count": null,
            "_view_module": "@jupyter-widgets/base",
            "_view_module_version": "1.2.0",
            "_view_name": "LayoutView",
            "align_content": null,
            "align_items": null,
            "align_self": null,
            "border": null,
            "bottom": null,
            "display": null,
            "flex": null,
            "flex_flow": null,
            "grid_area": null,
            "grid_auto_columns": null,
            "grid_auto_flow": null,
            "grid_auto_rows": null,
            "grid_column": null,
            "grid_gap": null,
            "grid_row": null,
            "grid_template_areas": null,
            "grid_template_columns": null,
            "grid_template_rows": null,
            "height": null,
            "justify_content": null,
            "justify_items": null,
            "left": null,
            "margin": null,
            "max_height": null,
            "max_width": null,
            "min_height": null,
            "min_width": null,
            "object_fit": null,
            "object_position": null,
            "order": null,
            "overflow": null,
            "overflow_x": null,
            "overflow_y": null,
            "padding": null,
            "right": null,
            "top": null,
            "visibility": null,
            "width": null
          }
        },
        "57d04601cc9240f1a274c145d6a7dbdd": {
          "model_module": "@jupyter-widgets/controls",
          "model_name": "ProgressStyleModel",
          "model_module_version": "1.5.0",
          "state": {
            "_model_module": "@jupyter-widgets/controls",
            "_model_module_version": "1.5.0",
            "_model_name": "ProgressStyleModel",
            "_view_count": null,
            "_view_module": "@jupyter-widgets/base",
            "_view_module_version": "1.2.0",
            "_view_name": "StyleView",
            "bar_color": null,
            "description_width": ""
          }
        },
        "2726abc96823490eb9a10b6c1950bde0": {
          "model_module": "@jupyter-widgets/base",
          "model_name": "LayoutModel",
          "model_module_version": "1.2.0",
          "state": {
            "_model_module": "@jupyter-widgets/base",
            "_model_module_version": "1.2.0",
            "_model_name": "LayoutModel",
            "_view_count": null,
            "_view_module": "@jupyter-widgets/base",
            "_view_module_version": "1.2.0",
            "_view_name": "LayoutView",
            "align_content": null,
            "align_items": null,
            "align_self": null,
            "border": null,
            "bottom": null,
            "display": null,
            "flex": null,
            "flex_flow": null,
            "grid_area": null,
            "grid_auto_columns": null,
            "grid_auto_flow": null,
            "grid_auto_rows": null,
            "grid_column": null,
            "grid_gap": null,
            "grid_row": null,
            "grid_template_areas": null,
            "grid_template_columns": null,
            "grid_template_rows": null,
            "height": null,
            "justify_content": null,
            "justify_items": null,
            "left": null,
            "margin": null,
            "max_height": null,
            "max_width": null,
            "min_height": null,
            "min_width": null,
            "object_fit": null,
            "object_position": null,
            "order": null,
            "overflow": null,
            "overflow_x": null,
            "overflow_y": null,
            "padding": null,
            "right": null,
            "top": null,
            "visibility": null,
            "width": null
          }
        },
        "6287ff80ab384793b5a024aa2df1b12a": {
          "model_module": "@jupyter-widgets/controls",
          "model_name": "DescriptionStyleModel",
          "model_module_version": "1.5.0",
          "state": {
            "_model_module": "@jupyter-widgets/controls",
            "_model_module_version": "1.5.0",
            "_model_name": "DescriptionStyleModel",
            "_view_count": null,
            "_view_module": "@jupyter-widgets/base",
            "_view_module_version": "1.2.0",
            "_view_name": "StyleView",
            "description_width": ""
          }
        },
        "615df17adf594a7980844b6124687589": {
          "model_module": "@jupyter-widgets/controls",
          "model_name": "HBoxModel",
          "model_module_version": "1.5.0",
          "state": {
            "_dom_classes": [],
            "_model_module": "@jupyter-widgets/controls",
            "_model_module_version": "1.5.0",
            "_model_name": "HBoxModel",
            "_view_count": null,
            "_view_module": "@jupyter-widgets/controls",
            "_view_module_version": "1.5.0",
            "_view_name": "HBoxView",
            "box_style": "",
            "children": [
              "IPY_MODEL_67fcb2c0dddf49e3b86dbde6afffdb1a",
              "IPY_MODEL_44544701a9664119bbcb7933fbc130c4",
              "IPY_MODEL_3dc9c6589b9a4ea2a3fb39476e3d5481"
            ],
            "layout": "IPY_MODEL_dd65fcd07df0416e9ef540059e09387a"
          }
        },
        "67fcb2c0dddf49e3b86dbde6afffdb1a": {
          "model_module": "@jupyter-widgets/controls",
          "model_name": "HTMLModel",
          "model_module_version": "1.5.0",
          "state": {
            "_dom_classes": [],
            "_model_module": "@jupyter-widgets/controls",
            "_model_module_version": "1.5.0",
            "_model_name": "HTMLModel",
            "_view_count": null,
            "_view_module": "@jupyter-widgets/controls",
            "_view_module_version": "1.5.0",
            "_view_name": "HTMLView",
            "description": "",
            "description_tooltip": null,
            "layout": "IPY_MODEL_22e457dac998403f9aa1ccf92e6844c8",
            "placeholder": "​",
            "style": "IPY_MODEL_9fae7fa0157e47dbbb0a2ef261cc18dd",
            "value": "Map: 100%"
          }
        },
        "44544701a9664119bbcb7933fbc130c4": {
          "model_module": "@jupyter-widgets/controls",
          "model_name": "FloatProgressModel",
          "model_module_version": "1.5.0",
          "state": {
            "_dom_classes": [],
            "_model_module": "@jupyter-widgets/controls",
            "_model_module_version": "1.5.0",
            "_model_name": "FloatProgressModel",
            "_view_count": null,
            "_view_module": "@jupyter-widgets/controls",
            "_view_module_version": "1.5.0",
            "_view_name": "ProgressView",
            "bar_style": "success",
            "description": "",
            "description_tooltip": null,
            "layout": "IPY_MODEL_71682fe7675c4e9a9136cca3d5ba3655",
            "max": 171,
            "min": 0,
            "orientation": "horizontal",
            "style": "IPY_MODEL_3101543f8447447cb429d08afbec31ae",
            "value": 171
          }
        },
        "3dc9c6589b9a4ea2a3fb39476e3d5481": {
          "model_module": "@jupyter-widgets/controls",
          "model_name": "HTMLModel",
          "model_module_version": "1.5.0",
          "state": {
            "_dom_classes": [],
            "_model_module": "@jupyter-widgets/controls",
            "_model_module_version": "1.5.0",
            "_model_name": "HTMLModel",
            "_view_count": null,
            "_view_module": "@jupyter-widgets/controls",
            "_view_module_version": "1.5.0",
            "_view_name": "HTMLView",
            "description": "",
            "description_tooltip": null,
            "layout": "IPY_MODEL_116a8a134f1347848dbd30303311c026",
            "placeholder": "​",
            "style": "IPY_MODEL_bf928d7b603b4658a3c1f2aa59ed66ef",
            "value": " 171/171 [00:00&lt;00:00, 673.94 examples/s]"
          }
        },
        "dd65fcd07df0416e9ef540059e09387a": {
          "model_module": "@jupyter-widgets/base",
          "model_name": "LayoutModel",
          "model_module_version": "1.2.0",
          "state": {
            "_model_module": "@jupyter-widgets/base",
            "_model_module_version": "1.2.0",
            "_model_name": "LayoutModel",
            "_view_count": null,
            "_view_module": "@jupyter-widgets/base",
            "_view_module_version": "1.2.0",
            "_view_name": "LayoutView",
            "align_content": null,
            "align_items": null,
            "align_self": null,
            "border": null,
            "bottom": null,
            "display": null,
            "flex": null,
            "flex_flow": null,
            "grid_area": null,
            "grid_auto_columns": null,
            "grid_auto_flow": null,
            "grid_auto_rows": null,
            "grid_column": null,
            "grid_gap": null,
            "grid_row": null,
            "grid_template_areas": null,
            "grid_template_columns": null,
            "grid_template_rows": null,
            "height": null,
            "justify_content": null,
            "justify_items": null,
            "left": null,
            "margin": null,
            "max_height": null,
            "max_width": null,
            "min_height": null,
            "min_width": null,
            "object_fit": null,
            "object_position": null,
            "order": null,
            "overflow": null,
            "overflow_x": null,
            "overflow_y": null,
            "padding": null,
            "right": null,
            "top": null,
            "visibility": null,
            "width": null
          }
        },
        "22e457dac998403f9aa1ccf92e6844c8": {
          "model_module": "@jupyter-widgets/base",
          "model_name": "LayoutModel",
          "model_module_version": "1.2.0",
          "state": {
            "_model_module": "@jupyter-widgets/base",
            "_model_module_version": "1.2.0",
            "_model_name": "LayoutModel",
            "_view_count": null,
            "_view_module": "@jupyter-widgets/base",
            "_view_module_version": "1.2.0",
            "_view_name": "LayoutView",
            "align_content": null,
            "align_items": null,
            "align_self": null,
            "border": null,
            "bottom": null,
            "display": null,
            "flex": null,
            "flex_flow": null,
            "grid_area": null,
            "grid_auto_columns": null,
            "grid_auto_flow": null,
            "grid_auto_rows": null,
            "grid_column": null,
            "grid_gap": null,
            "grid_row": null,
            "grid_template_areas": null,
            "grid_template_columns": null,
            "grid_template_rows": null,
            "height": null,
            "justify_content": null,
            "justify_items": null,
            "left": null,
            "margin": null,
            "max_height": null,
            "max_width": null,
            "min_height": null,
            "min_width": null,
            "object_fit": null,
            "object_position": null,
            "order": null,
            "overflow": null,
            "overflow_x": null,
            "overflow_y": null,
            "padding": null,
            "right": null,
            "top": null,
            "visibility": null,
            "width": null
          }
        },
        "9fae7fa0157e47dbbb0a2ef261cc18dd": {
          "model_module": "@jupyter-widgets/controls",
          "model_name": "DescriptionStyleModel",
          "model_module_version": "1.5.0",
          "state": {
            "_model_module": "@jupyter-widgets/controls",
            "_model_module_version": "1.5.0",
            "_model_name": "DescriptionStyleModel",
            "_view_count": null,
            "_view_module": "@jupyter-widgets/base",
            "_view_module_version": "1.2.0",
            "_view_name": "StyleView",
            "description_width": ""
          }
        },
        "71682fe7675c4e9a9136cca3d5ba3655": {
          "model_module": "@jupyter-widgets/base",
          "model_name": "LayoutModel",
          "model_module_version": "1.2.0",
          "state": {
            "_model_module": "@jupyter-widgets/base",
            "_model_module_version": "1.2.0",
            "_model_name": "LayoutModel",
            "_view_count": null,
            "_view_module": "@jupyter-widgets/base",
            "_view_module_version": "1.2.0",
            "_view_name": "LayoutView",
            "align_content": null,
            "align_items": null,
            "align_self": null,
            "border": null,
            "bottom": null,
            "display": null,
            "flex": null,
            "flex_flow": null,
            "grid_area": null,
            "grid_auto_columns": null,
            "grid_auto_flow": null,
            "grid_auto_rows": null,
            "grid_column": null,
            "grid_gap": null,
            "grid_row": null,
            "grid_template_areas": null,
            "grid_template_columns": null,
            "grid_template_rows": null,
            "height": null,
            "justify_content": null,
            "justify_items": null,
            "left": null,
            "margin": null,
            "max_height": null,
            "max_width": null,
            "min_height": null,
            "min_width": null,
            "object_fit": null,
            "object_position": null,
            "order": null,
            "overflow": null,
            "overflow_x": null,
            "overflow_y": null,
            "padding": null,
            "right": null,
            "top": null,
            "visibility": null,
            "width": null
          }
        },
        "3101543f8447447cb429d08afbec31ae": {
          "model_module": "@jupyter-widgets/controls",
          "model_name": "ProgressStyleModel",
          "model_module_version": "1.5.0",
          "state": {
            "_model_module": "@jupyter-widgets/controls",
            "_model_module_version": "1.5.0",
            "_model_name": "ProgressStyleModel",
            "_view_count": null,
            "_view_module": "@jupyter-widgets/base",
            "_view_module_version": "1.2.0",
            "_view_name": "StyleView",
            "bar_color": null,
            "description_width": ""
          }
        },
        "116a8a134f1347848dbd30303311c026": {
          "model_module": "@jupyter-widgets/base",
          "model_name": "LayoutModel",
          "model_module_version": "1.2.0",
          "state": {
            "_model_module": "@jupyter-widgets/base",
            "_model_module_version": "1.2.0",
            "_model_name": "LayoutModel",
            "_view_count": null,
            "_view_module": "@jupyter-widgets/base",
            "_view_module_version": "1.2.0",
            "_view_name": "LayoutView",
            "align_content": null,
            "align_items": null,
            "align_self": null,
            "border": null,
            "bottom": null,
            "display": null,
            "flex": null,
            "flex_flow": null,
            "grid_area": null,
            "grid_auto_columns": null,
            "grid_auto_flow": null,
            "grid_auto_rows": null,
            "grid_column": null,
            "grid_gap": null,
            "grid_row": null,
            "grid_template_areas": null,
            "grid_template_columns": null,
            "grid_template_rows": null,
            "height": null,
            "justify_content": null,
            "justify_items": null,
            "left": null,
            "margin": null,
            "max_height": null,
            "max_width": null,
            "min_height": null,
            "min_width": null,
            "object_fit": null,
            "object_position": null,
            "order": null,
            "overflow": null,
            "overflow_x": null,
            "overflow_y": null,
            "padding": null,
            "right": null,
            "top": null,
            "visibility": null,
            "width": null
          }
        },
        "bf928d7b603b4658a3c1f2aa59ed66ef": {
          "model_module": "@jupyter-widgets/controls",
          "model_name": "DescriptionStyleModel",
          "model_module_version": "1.5.0",
          "state": {
            "_model_module": "@jupyter-widgets/controls",
            "_model_module_version": "1.5.0",
            "_model_name": "DescriptionStyleModel",
            "_view_count": null,
            "_view_module": "@jupyter-widgets/base",
            "_view_module_version": "1.2.0",
            "_view_name": "StyleView",
            "description_width": ""
          }
        },
        "5e5cc256773e420499f2fe55fc963b31": {
          "model_module": "@jupyter-widgets/controls",
          "model_name": "HBoxModel",
          "model_module_version": "1.5.0",
          "state": {
            "_dom_classes": [],
            "_model_module": "@jupyter-widgets/controls",
            "_model_module_version": "1.5.0",
            "_model_name": "HBoxModel",
            "_view_count": null,
            "_view_module": "@jupyter-widgets/controls",
            "_view_module_version": "1.5.0",
            "_view_name": "HBoxView",
            "box_style": "",
            "children": [
              "IPY_MODEL_ea26410936954d0f8c761b50adbf9ff9",
              "IPY_MODEL_79ad648b7a824b5e9091c72974841462",
              "IPY_MODEL_c8929d6c8c6341d29d28293863a6ff69"
            ],
            "layout": "IPY_MODEL_214760fdfe2344678230e05fbde0449d"
          }
        },
        "ea26410936954d0f8c761b50adbf9ff9": {
          "model_module": "@jupyter-widgets/controls",
          "model_name": "HTMLModel",
          "model_module_version": "1.5.0",
          "state": {
            "_dom_classes": [],
            "_model_module": "@jupyter-widgets/controls",
            "_model_module_version": "1.5.0",
            "_model_name": "HTMLModel",
            "_view_count": null,
            "_view_module": "@jupyter-widgets/controls",
            "_view_module_version": "1.5.0",
            "_view_name": "HTMLView",
            "description": "",
            "description_tooltip": null,
            "layout": "IPY_MODEL_c49f069711f84a27bf53d408de4334c8",
            "placeholder": "​",
            "style": "IPY_MODEL_8087fa169c944170aa43cfc49a576cff",
            "value": "Map: 100%"
          }
        },
        "79ad648b7a824b5e9091c72974841462": {
          "model_module": "@jupyter-widgets/controls",
          "model_name": "FloatProgressModel",
          "model_module_version": "1.5.0",
          "state": {
            "_dom_classes": [],
            "_model_module": "@jupyter-widgets/controls",
            "_model_module_version": "1.5.0",
            "_model_name": "FloatProgressModel",
            "_view_count": null,
            "_view_module": "@jupyter-widgets/controls",
            "_view_module_version": "1.5.0",
            "_view_name": "ProgressView",
            "bar_style": "success",
            "description": "",
            "description_tooltip": null,
            "layout": "IPY_MODEL_f2c90fe4cfab4b639e81fa89471dfbd8",
            "max": 171,
            "min": 0,
            "orientation": "horizontal",
            "style": "IPY_MODEL_60fb7ed09acf468a9b045baf8a2aa0b0",
            "value": 171
          }
        },
        "c8929d6c8c6341d29d28293863a6ff69": {
          "model_module": "@jupyter-widgets/controls",
          "model_name": "HTMLModel",
          "model_module_version": "1.5.0",
          "state": {
            "_dom_classes": [],
            "_model_module": "@jupyter-widgets/controls",
            "_model_module_version": "1.5.0",
            "_model_name": "HTMLModel",
            "_view_count": null,
            "_view_module": "@jupyter-widgets/controls",
            "_view_module_version": "1.5.0",
            "_view_name": "HTMLView",
            "description": "",
            "description_tooltip": null,
            "layout": "IPY_MODEL_3fca875afa9a485caa70ea611b5b6826",
            "placeholder": "​",
            "style": "IPY_MODEL_e2cd1752afa344b585ceb6d2ad5ce917",
            "value": " 171/171 [00:00&lt;00:00, 642.06 examples/s]"
          }
        },
        "214760fdfe2344678230e05fbde0449d": {
          "model_module": "@jupyter-widgets/base",
          "model_name": "LayoutModel",
          "model_module_version": "1.2.0",
          "state": {
            "_model_module": "@jupyter-widgets/base",
            "_model_module_version": "1.2.0",
            "_model_name": "LayoutModel",
            "_view_count": null,
            "_view_module": "@jupyter-widgets/base",
            "_view_module_version": "1.2.0",
            "_view_name": "LayoutView",
            "align_content": null,
            "align_items": null,
            "align_self": null,
            "border": null,
            "bottom": null,
            "display": null,
            "flex": null,
            "flex_flow": null,
            "grid_area": null,
            "grid_auto_columns": null,
            "grid_auto_flow": null,
            "grid_auto_rows": null,
            "grid_column": null,
            "grid_gap": null,
            "grid_row": null,
            "grid_template_areas": null,
            "grid_template_columns": null,
            "grid_template_rows": null,
            "height": null,
            "justify_content": null,
            "justify_items": null,
            "left": null,
            "margin": null,
            "max_height": null,
            "max_width": null,
            "min_height": null,
            "min_width": null,
            "object_fit": null,
            "object_position": null,
            "order": null,
            "overflow": null,
            "overflow_x": null,
            "overflow_y": null,
            "padding": null,
            "right": null,
            "top": null,
            "visibility": null,
            "width": null
          }
        },
        "c49f069711f84a27bf53d408de4334c8": {
          "model_module": "@jupyter-widgets/base",
          "model_name": "LayoutModel",
          "model_module_version": "1.2.0",
          "state": {
            "_model_module": "@jupyter-widgets/base",
            "_model_module_version": "1.2.0",
            "_model_name": "LayoutModel",
            "_view_count": null,
            "_view_module": "@jupyter-widgets/base",
            "_view_module_version": "1.2.0",
            "_view_name": "LayoutView",
            "align_content": null,
            "align_items": null,
            "align_self": null,
            "border": null,
            "bottom": null,
            "display": null,
            "flex": null,
            "flex_flow": null,
            "grid_area": null,
            "grid_auto_columns": null,
            "grid_auto_flow": null,
            "grid_auto_rows": null,
            "grid_column": null,
            "grid_gap": null,
            "grid_row": null,
            "grid_template_areas": null,
            "grid_template_columns": null,
            "grid_template_rows": null,
            "height": null,
            "justify_content": null,
            "justify_items": null,
            "left": null,
            "margin": null,
            "max_height": null,
            "max_width": null,
            "min_height": null,
            "min_width": null,
            "object_fit": null,
            "object_position": null,
            "order": null,
            "overflow": null,
            "overflow_x": null,
            "overflow_y": null,
            "padding": null,
            "right": null,
            "top": null,
            "visibility": null,
            "width": null
          }
        },
        "8087fa169c944170aa43cfc49a576cff": {
          "model_module": "@jupyter-widgets/controls",
          "model_name": "DescriptionStyleModel",
          "model_module_version": "1.5.0",
          "state": {
            "_model_module": "@jupyter-widgets/controls",
            "_model_module_version": "1.5.0",
            "_model_name": "DescriptionStyleModel",
            "_view_count": null,
            "_view_module": "@jupyter-widgets/base",
            "_view_module_version": "1.2.0",
            "_view_name": "StyleView",
            "description_width": ""
          }
        },
        "f2c90fe4cfab4b639e81fa89471dfbd8": {
          "model_module": "@jupyter-widgets/base",
          "model_name": "LayoutModel",
          "model_module_version": "1.2.0",
          "state": {
            "_model_module": "@jupyter-widgets/base",
            "_model_module_version": "1.2.0",
            "_model_name": "LayoutModel",
            "_view_count": null,
            "_view_module": "@jupyter-widgets/base",
            "_view_module_version": "1.2.0",
            "_view_name": "LayoutView",
            "align_content": null,
            "align_items": null,
            "align_self": null,
            "border": null,
            "bottom": null,
            "display": null,
            "flex": null,
            "flex_flow": null,
            "grid_area": null,
            "grid_auto_columns": null,
            "grid_auto_flow": null,
            "grid_auto_rows": null,
            "grid_column": null,
            "grid_gap": null,
            "grid_row": null,
            "grid_template_areas": null,
            "grid_template_columns": null,
            "grid_template_rows": null,
            "height": null,
            "justify_content": null,
            "justify_items": null,
            "left": null,
            "margin": null,
            "max_height": null,
            "max_width": null,
            "min_height": null,
            "min_width": null,
            "object_fit": null,
            "object_position": null,
            "order": null,
            "overflow": null,
            "overflow_x": null,
            "overflow_y": null,
            "padding": null,
            "right": null,
            "top": null,
            "visibility": null,
            "width": null
          }
        },
        "60fb7ed09acf468a9b045baf8a2aa0b0": {
          "model_module": "@jupyter-widgets/controls",
          "model_name": "ProgressStyleModel",
          "model_module_version": "1.5.0",
          "state": {
            "_model_module": "@jupyter-widgets/controls",
            "_model_module_version": "1.5.0",
            "_model_name": "ProgressStyleModel",
            "_view_count": null,
            "_view_module": "@jupyter-widgets/base",
            "_view_module_version": "1.2.0",
            "_view_name": "StyleView",
            "bar_color": null,
            "description_width": ""
          }
        },
        "3fca875afa9a485caa70ea611b5b6826": {
          "model_module": "@jupyter-widgets/base",
          "model_name": "LayoutModel",
          "model_module_version": "1.2.0",
          "state": {
            "_model_module": "@jupyter-widgets/base",
            "_model_module_version": "1.2.0",
            "_model_name": "LayoutModel",
            "_view_count": null,
            "_view_module": "@jupyter-widgets/base",
            "_view_module_version": "1.2.0",
            "_view_name": "LayoutView",
            "align_content": null,
            "align_items": null,
            "align_self": null,
            "border": null,
            "bottom": null,
            "display": null,
            "flex": null,
            "flex_flow": null,
            "grid_area": null,
            "grid_auto_columns": null,
            "grid_auto_flow": null,
            "grid_auto_rows": null,
            "grid_column": null,
            "grid_gap": null,
            "grid_row": null,
            "grid_template_areas": null,
            "grid_template_columns": null,
            "grid_template_rows": null,
            "height": null,
            "justify_content": null,
            "justify_items": null,
            "left": null,
            "margin": null,
            "max_height": null,
            "max_width": null,
            "min_height": null,
            "min_width": null,
            "object_fit": null,
            "object_position": null,
            "order": null,
            "overflow": null,
            "overflow_x": null,
            "overflow_y": null,
            "padding": null,
            "right": null,
            "top": null,
            "visibility": null,
            "width": null
          }
        },
        "e2cd1752afa344b585ceb6d2ad5ce917": {
          "model_module": "@jupyter-widgets/controls",
          "model_name": "DescriptionStyleModel",
          "model_module_version": "1.5.0",
          "state": {
            "_model_module": "@jupyter-widgets/controls",
            "_model_module_version": "1.5.0",
            "_model_name": "DescriptionStyleModel",
            "_view_count": null,
            "_view_module": "@jupyter-widgets/base",
            "_view_module_version": "1.2.0",
            "_view_name": "StyleView",
            "description_width": ""
          }
        }
      }
    }
  },
  "cells": [
    {
      "cell_type": "markdown",
      "metadata": {
        "id": "view-in-github",
        "colab_type": "text"
      },
      "source": [
        "<a href=\"https://colab.research.google.com/github/p2x0i/Liqudity-Trading-/blob/main/Q1.ipynb\" target=\"_parent\"><img src=\"https://colab.research.google.com/assets/colab-badge.svg\" alt=\"Open In Colab\"/></a>"
      ]
    },
    {
      "cell_type": "markdown",
      "source": [
        "In this project, I set out to develop a sentiment analysis model for stock market news articles. The goal was to classify news articles as either positive or negative based on their content. Initially, I implemented the model using PyTorch, using the powerful XLM-RoBERTa transformer model from Hugging Face. LAter, I rewrote the model using JAX and Flax to learn the differences between these frameworks.\n"
      ],
      "metadata": {
        "id": "yFXE8Ye_wM4z"
      }
    },
    {
      "cell_type": "code",
      "execution_count": 15,
      "metadata": {
        "id": "r0jadm4l7uSo"
      },
      "outputs": [],
      "source": [
        "!pip install transformers datasets sentencepiece chardet scikit-learn torch torchvision torchaudio --quiet\n"
      ]
    },
    {
      "cell_type": "code",
      "source": [
        "import os\n",
        "import torch\n",
        "import torch.nn as nn\n",
        "from torch.utils.data import Dataset, DataLoader\n",
        "from sklearn.model_selection import train_test_split\n",
        "from transformers import AutoTokenizer, AutoModelForSequenceClassification, AutoConfig\n",
        "from transformers import get_linear_schedule_with_warmup\n",
        "import numpy as np\n",
        "import random\n",
        "import chardet\n",
        "from sklearn.metrics import classification_report, confusion_matrix, accuracy_score\n",
        "import seaborn as sns\n",
        "import matplotlib.pyplot as plt\n",
        "from collections import defaultdict\n",
        "from tqdm import tqdm\n",
        "import re"
      ],
      "metadata": {
        "id": "Ca15GvoO8HoX"
      },
      "execution_count": 23,
      "outputs": []
    },
    {
      "cell_type": "code",
      "source": [
        "from google.colab import drive\n",
        "drive.mount('/content/drive')"
      ],
      "metadata": {
        "colab": {
          "base_uri": "https://localhost:8080/"
        },
        "id": "VY5kb-3z8J9B",
        "outputId": "4985e421-2193-4f89-a6c1-7c960f2a855d"
      },
      "execution_count": 4,
      "outputs": [
        {
          "output_type": "stream",
          "name": "stdout",
          "text": [
            "Mounted at /content/drive\n"
          ]
        }
      ]
    },
    {
      "cell_type": "code",
      "source": [
        "import os\n",
        "\n",
        "data_path = '/content/drive/MyDrive/Colab Notebooks/sorted_news'\n",
        "\n",
        "\n",
        "\n",
        "neg_path = os.path.join(data_path, 'neg')\n",
        "pos_path = os.path.join(data_path, 'pos')\n"
      ],
      "metadata": {
        "id": "nFSBPWuO8SAY"
      },
      "execution_count": 16,
      "outputs": []
    },
    {
      "cell_type": "markdown",
      "source": [
        "I will load the stock market news dataset and preprocess it by removing unnecessary characters, lowercasing, and removing URLs and emails.\n"
      ],
      "metadata": {
        "id": "1CcfL6yBiKPZ"
      }
    },
    {
      "cell_type": "code",
      "source": [
        "texts = []\n",
        "labels = []\n",
        "import chardet\n",
        "\n",
        "def detect_encoding(file_path):\n",
        "    with open(file_path, 'rb') as f:\n",
        "        raw_data = f.read()\n",
        "    result = chardet.detect(raw_data)\n",
        "    return result['encoding']\n",
        "\n",
        "\n",
        "# read negative reviews\n",
        "neg_files = os.listdir(neg_path)\n",
        "for i in neg_files:\n",
        "    file_path = os.path.join(neg_path, i)\n",
        "    encoding = detect_encoding(file_path)\n",
        "    with open(file_path, 'r', encoding=encoding) as f:\n",
        "        texts.append(f.read())\n",
        "        labels.append(0)  #'0' for negative sentiment\n",
        "\n",
        "# read positive reviews\n",
        "pos_files = os.listdir(pos_path)\n",
        "for i in pos_files:\n",
        "    file_path = os.path.join(pos_path, i)\n",
        "    encoding = detect_encoding(file_path)\n",
        "    with open(file_path, 'r', encoding=encoding) as f:\n",
        "        texts.append(f.read())\n",
        "        labels.append(1)  #'1' for positive sentiment\n",
        "\n",
        "print(f\"Total samples: {len(texts)}\")\n"
      ],
      "metadata": {
        "colab": {
          "base_uri": "https://localhost:8080/"
        },
        "id": "UzxdZl5AwDW2",
        "outputId": "47d410fa-66b8-4315-fd01-b9fdb547e8d0"
      },
      "execution_count": 17,
      "outputs": [
        {
          "output_type": "stream",
          "name": "stdout",
          "text": [
            "Total samples: 1706\n"
          ]
        }
      ]
    },
    {
      "cell_type": "code",
      "source": [
        "def preprocess_text(text):\n",
        "    # remove whitespaces\n",
        "    text = text.strip()\n",
        "\n",
        "    # remove URLs\n",
        "    text = re.sub(r'http\\S+|www.\\S+', '', text)\n",
        "\n",
        "    # remove emails\n",
        "    text = re.sub(r'\\S+@\\S+', '', text)\n",
        "\n",
        "\n",
        "    # lowercase\n",
        "    text = text.lower()\n",
        "\n",
        "    return text\n",
        "\n",
        "# Apply to all texts\n",
        "texts = [preprocess_text(text) for text in texts]"
      ],
      "metadata": {
        "id": "aaJsL7TD8vnQ"
      },
      "execution_count": 24,
      "outputs": []
    },
    {
      "cell_type": "markdown",
      "source": [
        "I will split the data into training, validation, and test sets using stratified sampling to maintain the class distribution.\n"
      ],
      "metadata": {
        "id": "jy6bzp7uiP3i"
      }
    },
    {
      "cell_type": "code",
      "source": [
        "# Split into training and temporary set\n",
        "train_texts, temp_texts, train_labels, temp_labels = train_test_split(\n",
        "    texts, labels, test_size=0.2,  stratify=labels\n",
        ")\n",
        "\n",
        "# Split temporary set into validation and test sets\n",
        "val_texts, test_texts, val_labels, test_labels = train_test_split(\n",
        "    temp_texts, temp_labels, test_size=0.5, stratify=temp_labels\n",
        ")\n",
        "\n",
        "print(f\"Training samples: {len(train_texts)}\")\n",
        "print(f\"Validation samples: {len(val_texts)}\")\n",
        "print(f\"Test samples: {len(test_texts)}\")\n"
      ],
      "metadata": {
        "colab": {
          "base_uri": "https://localhost:8080/"
        },
        "id": "mRHMW8DI9d7y",
        "outputId": "99ac0ac2-4250-4cbc-d2a2-27c2bececda8"
      },
      "execution_count": 25,
      "outputs": [
        {
          "output_type": "stream",
          "name": "stdout",
          "text": [
            "Training samples: 1364\n",
            "Validation samples: 171\n",
            "Test samples: 171\n"
          ]
        }
      ]
    },
    {
      "cell_type": "markdown",
      "source": [
        "I will use the tokenizer from the pre-trained xlm-roberta-base model hugging face version\n",
        " to tokenize the text data.\n",
        "\n"
      ],
      "metadata": {
        "id": "vMifRjnQiUVj"
      }
    },
    {
      "cell_type": "markdown",
      "source": [
        "XLM-RoBERTa\n",
        "*   Multilingual pre-training and strong contextualization\n",
        "*   Generally outperforms other traditional LSTMs\n",
        "*   Self-attention mechanism\n",
        "*   Compared to BERT stronger in other languages-not english-\n",
        "\n",
        "\n",
        "    \n",
        "\n"
      ],
      "metadata": {
        "id": "DfjEsSDx9-8B"
      }
    },
    {
      "cell_type": "markdown",
      "source": [
        "I tokenized the text data to prepare it for the model."
      ],
      "metadata": {
        "id": "8Klz7FqhwvlH"
      }
    },
    {
      "cell_type": "code",
      "source": [
        "model_name = 'xlm-roberta-base'\n",
        "tokenizer = AutoTokenizer.from_pretrained(model_name)"
      ],
      "metadata": {
        "colab": {
          "base_uri": "https://localhost:8080/"
        },
        "id": "SrNDWn_y-VKN",
        "outputId": "31cfeee1-2009-4b98-a8a4-c10800c55a01"
      },
      "execution_count": 26,
      "outputs": [
        {
          "output_type": "stream",
          "name": "stderr",
          "text": [
            "/usr/local/lib/python3.10/dist-packages/transformers/tokenization_utils_base.py:1601: FutureWarning: `clean_up_tokenization_spaces` was not set. It will be set to `True` by default. This behavior will be depracted in transformers v4.45, and will be then set to `False` by default. For more details check this issue: https://github.com/huggingface/transformers/issues/31884\n",
            "  warnings.warn(\n"
          ]
        }
      ]
    },
    {
      "cell_type": "code",
      "source": [
        "class NewsDataset(Dataset):\n",
        "    def __init__(self, texts, labels, tokenizer, max_len):\n",
        "        self.texts = texts\n",
        "        self.labels = labels\n",
        "        self.tokenizer = tokenizer\n",
        "        self.max_len = max_len\n",
        "\n",
        "    def __len__(self):\n",
        "        return len(self.texts)\n",
        "\n",
        "    def __getitem__(self, idx):\n",
        "        text = str(self.texts[idx])\n",
        "        label = self.labels[idx]\n",
        "\n",
        "        # Tokenize the text\n",
        "        encoding = self.tokenizer.encode_plus(\n",
        "            text,\n",
        "            add_special_tokens=True,\n",
        "            max_length=self.max_len,\n",
        "            truncation=True,\n",
        "            padding='max_length',\n",
        "            return_token_type_ids=False,\n",
        "            return_attention_mask=True,\n",
        "            return_tensors='pt',\n",
        "        )\n",
        "\n",
        "        return {\n",
        "            'text': text,\n",
        "            'input_ids': encoding['input_ids'].squeeze(),\n",
        "            'attention_mask': encoding['attention_mask'].squeeze(),\n",
        "            'token_type_ids': encoding.get('token_type_ids', torch.tensor([0]*self.max_len)).squeeze(),\n",
        "            'labels': torch.tensor(label, dtype=torch.long)\n",
        "        }"
      ],
      "metadata": {
        "id": "18_ueaFi-Y2V"
      },
      "execution_count": 27,
      "outputs": []
    },
    {
      "cell_type": "code",
      "source": [
        "MAX_LEN = 64\n",
        "BATCH_SIZE = 8"
      ],
      "metadata": {
        "id": "FSLWNEyR-iR8"
      },
      "execution_count": 28,
      "outputs": []
    },
    {
      "cell_type": "code",
      "source": [
        "# Create datasets\n",
        "train_dataset = NewsDataset(train_texts, train_labels, tokenizer, MAX_LEN)\n",
        "val_dataset = NewsDataset(val_texts, val_labels, tokenizer, MAX_LEN)\n",
        "test_dataset = NewsDataset(test_texts, test_labels, tokenizer, MAX_LEN)\n",
        "\n",
        "# Create data loaders\n",
        "train_loader = DataLoader(train_dataset, batch_size=BATCH_SIZE, shuffle=True, num_workers=2)\n",
        "val_loader = DataLoader(val_dataset, batch_size=BATCH_SIZE, shuffle=False, num_workers=2)\n",
        "test_loader = DataLoader(test_dataset, batch_size=BATCH_SIZE, shuffle=False, num_workers=2)\n"
      ],
      "metadata": {
        "id": "kEuRjUrF-nkE"
      },
      "execution_count": 29,
      "outputs": []
    },
    {
      "cell_type": "code",
      "source": [
        "# Load pre-trained model with a classification head\n",
        "config = AutoConfig.from_pretrained(model_name, num_labels=2)\n",
        "model = AutoModelForSequenceClassification.from_pretrained(model_name, config=config)\n",
        "\n",
        "device = torch.device('cuda' if torch.cuda.is_available() else 'cpu')\n",
        "model = model.to(device)\n"
      ],
      "metadata": {
        "colab": {
          "base_uri": "https://localhost:8080/"
        },
        "id": "UCjdUvoODRJK",
        "outputId": "6d778cb1-b0aa-471a-f8ce-30036f065110"
      },
      "execution_count": 30,
      "outputs": [
        {
          "output_type": "stream",
          "name": "stderr",
          "text": [
            "Some weights of XLMRobertaForSequenceClassification were not initialized from the model checkpoint at xlm-roberta-base and are newly initialized: ['classifier.dense.bias', 'classifier.dense.weight', 'classifier.out_proj.bias', 'classifier.out_proj.weight']\n",
            "You should probably TRAIN this model on a down-stream task to be able to use it for predictions and inference.\n"
          ]
        }
      ]
    },
    {
      "cell_type": "markdown",
      "source": [
        " defined training and evaluation loops using standard PyTorch practices:\n",
        "\n",
        "Optimizer: Used AdamW optimizer with a learning rate of 2e-5.\n",
        "\n",
        "Learning Rate Scheduler: Implemented a linear scheduler with warmup.\n",
        "\n",
        "Loss Function: Utilized CrossEntropyLoss\n",
        "\n"
      ],
      "metadata": {
        "id": "dcoXXlnpw4_d"
      }
    },
    {
      "cell_type": "code",
      "source": [
        "from transformers import get_linear_schedule_with_warmup\n",
        "\n",
        "EPOCHS = 3\n",
        "optimizer = torch.optim.AdamW(model.parameters(), lr=2e-5)\n",
        "\n",
        "total_steps = len(train_loader) * EPOCHS\n",
        "\n",
        "scheduler = get_linear_schedule_with_warmup(\n",
        "    optimizer,\n",
        "    num_warmup_steps=0,\n",
        "    num_training_steps=total_steps\n",
        ")\n",
        "\n",
        "loss_fn = nn.CrossEntropyLoss().to(device)"
      ],
      "metadata": {
        "id": "A6kBDbbcDpo0"
      },
      "execution_count": 31,
      "outputs": []
    },
    {
      "cell_type": "code",
      "source": [
        "def train_epoch(\n",
        "    model, data_loader, loss_fn, optimizer, device, scheduler, n_examples\n",
        "):\n",
        "    model.train()\n",
        "\n",
        "    losses = []\n",
        "    correct_predictions = 0\n",
        "\n",
        "    for batch in tqdm(data_loader, desc='Training'):\n",
        "        input_ids = batch['input_ids'].to(device)\n",
        "        attention_mask = batch['attention_mask'].to(device)\n",
        "        labels = batch['labels'].to(device)\n",
        "\n",
        "        outputs = model(\n",
        "            input_ids=input_ids,\n",
        "            attention_mask=attention_mask,\n",
        "            labels=labels\n",
        "        )\n",
        "        loss = outputs.loss\n",
        "        logits = outputs.logits\n",
        "\n",
        "        _, preds = torch.max(logits, dim=1)\n",
        "        correct_predictions += torch.sum(preds == labels)\n",
        "        losses.append(loss.item())\n",
        "\n",
        "        loss.backward()\n",
        "        nn.utils.clip_grad_norm_(model.parameters(), max_norm=1.0)\n",
        "\n",
        "        optimizer.step()\n",
        "        scheduler.step()\n",
        "        optimizer.zero_grad()\n",
        "\n",
        "    return correct_predictions.double() / n_examples, np.mean(losses)\n"
      ],
      "metadata": {
        "id": "CiynVg7QE_e2"
      },
      "execution_count": 32,
      "outputs": []
    },
    {
      "cell_type": "code",
      "source": [
        "def eval_model(\n",
        "    model, data_loader, loss_fn, device, n_examples\n",
        "):\n",
        "    model.eval()\n",
        "\n",
        "    losses = []\n",
        "    correct_predictions = 0\n",
        "\n",
        "    with torch.no_grad():\n",
        "        for batch in tqdm(data_loader, desc='Evaluating'):\n",
        "            input_ids = batch['input_ids'].to(device)\n",
        "            attention_mask = batch['attention_mask'].to(device)\n",
        "            labels = batch['labels'].to(device)\n",
        "\n",
        "            outputs = model(\n",
        "                input_ids=input_ids,\n",
        "                attention_mask=attention_mask,\n",
        "                labels=labels\n",
        "            )\n",
        "            loss = outputs.loss\n",
        "            logits = outputs.logits\n",
        "\n",
        "            _, preds = torch.max(logits, dim=1)\n",
        "            correct_predictions += torch.sum(preds == labels)\n",
        "            losses.append(loss.item())\n",
        "\n",
        "    return correct_predictions.double() / n_examples, np.mean(losses)"
      ],
      "metadata": {
        "id": "xYFOEp7ZJ-Xz"
      },
      "execution_count": 33,
      "outputs": []
    },
    {
      "cell_type": "code",
      "source": [
        "# Training loop\n",
        "history = defaultdict(list)\n",
        "best_accuracy = 0\n",
        "\n",
        "for i in range(EPOCHS):\n",
        "    print(f'Epoch {epoch + 1}/{EPOCHS}')\n",
        "    print('-' * 20)\n",
        "\n",
        "    train_acc, train_loss = train_epoch(\n",
        "        model, train_loader, loss_fn, optimizer, device, scheduler, len(train_dataset)\n",
        "    )\n",
        "\n",
        "    print(f'Train loss: {train_loss:.4f}, accuracy: {train_acc:.4f}')\n",
        "\n",
        "    val_acc, val_loss = eval_model(\n",
        "        model, val_loader, loss_fn, device, len(val_dataset)\n",
        "    )\n",
        "\n",
        "    print(f'Validation loss: {val_loss:.4f}, accuracy: {val_acc:.4f}')\n",
        "    print()\n",
        "\n",
        "    history['train_acc'].append(train_acc.cpu())\n",
        "    history['train_loss'].append(train_loss)\n",
        "    history['val_acc'].append(val_acc.cpu())\n",
        "    history['val_loss'].append(val_loss)\n",
        "\n",
        "    # Save best model\n",
        "    if val_acc > best_accuracy:\n",
        "        torch.save(model.state_dict(), 'best_model_state.bin')\n",
        "        best_accuracy = val_acc\n"
      ],
      "metadata": {
        "colab": {
          "base_uri": "https://localhost:8080/"
        },
        "id": "MU0xrhqEKJP9",
        "outputId": "de453f81-7a8c-45b2-f003-33d5b3e1e7e5"
      },
      "execution_count": 33,
      "outputs": [
        {
          "metadata": {
            "tags": null
          },
          "name": "stdout",
          "output_type": "stream",
          "text": [
            "Epoch 1/3\n",
            "--------------------\n"
          ]
        },
        {
          "metadata": {
            "tags": null
          },
          "name": "stderr",
          "output_type": "stream",
          "text": [
            "Training: 100%|██████████| 171/171 [31:31<00:00, 11.06s/it]\n"
          ]
        },
        {
          "metadata": {
            "tags": null
          },
          "name": "stdout",
          "output_type": "stream",
          "text": [
            "Train loss: 0.6799, accuracy: 0.5740\n"
          ]
        },
        {
          "metadata": {
            "tags": null
          },
          "name": "stderr",
          "output_type": "stream",
          "text": [
            "Evaluating: 100%|██████████| 22/22 [00:52<00:00,  2.36s/it]\n"
          ]
        },
        {
          "metadata": {
            "tags": null
          },
          "name": "stdout",
          "output_type": "stream",
          "text": [
            "Validation loss: 0.6420, accuracy: 0.6550\n",
            "\n",
            "Epoch 2/3\n",
            "--------------------\n"
          ]
        },
        {
          "metadata": {
            "tags": null
          },
          "name": "stderr",
          "output_type": "stream",
          "text": [
            "Training: 100%|██████████| 171/171 [30:06<00:00, 10.56s/it]\n"
          ]
        },
        {
          "metadata": {
            "tags": null
          },
          "name": "stdout",
          "output_type": "stream",
          "text": [
            "Train loss: 0.5921, accuracy: 0.6928\n"
          ]
        },
        {
          "metadata": {
            "tags": null
          },
          "name": "stderr",
          "output_type": "stream",
          "text": [
            "Evaluating: 100%|██████████| 22/22 [00:42<00:00,  1.92s/it]\n"
          ]
        },
        {
          "metadata": {
            "tags": null
          },
          "name": "stdout",
          "output_type": "stream",
          "text": [
            "Validation loss: 0.5636, accuracy: 0.6959\n",
            "\n",
            "Epoch 3/3\n",
            "--------------------\n"
          ]
        },
        {
          "output_type": "stream",
          "name": "stderr",
          "text": [
            "Training: 100%|██████████| 171/171 [29:20<00:00, 10.29s/it]\n"
          ]
        },
        {
          "output_type": "stream",
          "name": "stdout",
          "text": [
            "Train loss: 0.4693, accuracy: 0.7881\n"
          ]
        },
        {
          "output_type": "stream",
          "name": "stderr",
          "text": [
            "Evaluating: 100%|██████████| 22/22 [00:41<00:00,  1.90s/it]\n"
          ]
        },
        {
          "output_type": "stream",
          "name": "stdout",
          "text": [
            "Validation loss: 0.5224, accuracy: 0.7485\n",
            "\n"
          ]
        }
      ]
    },
    {
      "cell_type": "code",
      "source": [
        "# Load the best model\n",
        "model.load_state_dict(torch.load('best_model_state.bin'))\n",
        "model = model.to(device)\n"
      ],
      "metadata": {
        "colab": {
          "base_uri": "https://localhost:8080/"
        },
        "id": "nRo0QBK-KKDQ",
        "outputId": "c36adc02-cd87-466e-f6e9-7d16eb32a1c1"
      },
      "execution_count": 34,
      "outputs": [
        {
          "output_type": "stream",
          "name": "stderr",
          "text": [
            "<ipython-input-34-5607eb650b48>:2: FutureWarning: You are using `torch.load` with `weights_only=False` (the current default value), which uses the default pickle module implicitly. It is possible to construct malicious pickle data which will execute arbitrary code during unpickling (See https://github.com/pytorch/pytorch/blob/main/SECURITY.md#untrusted-models for more details). In a future release, the default value for `weights_only` will be flipped to `True`. This limits the functions that could be executed during unpickling. Arbitrary objects will no longer be allowed to be loaded via this mode unless they are explicitly allowlisted by the user via `torch.serialization.add_safe_globals`. We recommend you start setting `weights_only=True` for any use case where you don't have full control of the loaded file. Please open an issue on GitHub for any issues related to this experimental feature.\n",
            "  model.load_state_dict(torch.load('best_model_state.bin'))\n"
          ]
        }
      ]
    },
    {
      "cell_type": "code",
      "source": [
        "def get_predictions(model, data_loader):\n",
        "    model.eval()\n",
        "\n",
        "    texts = []\n",
        "    predictions = []\n",
        "    prediction_probs = []\n",
        "    real_values = []\n",
        "\n",
        "    with torch.no_grad():\n",
        "        for batch in tqdm(data_loader, desc='Predicting'):\n",
        "            texts.extend(batch['text'])\n",
        "            input_ids = batch['input_ids'].to(device)\n",
        "            attention_mask = batch['attention_mask'].to(device)\n",
        "            labels = batch['labels'].to(device)\n",
        "\n",
        "            outputs = model(\n",
        "                input_ids=input_ids,\n",
        "                attention_mask=attention_mask\n",
        "            )\n",
        "            logits = outputs.logits\n",
        "            _, preds = torch.max(logits, dim=1)\n",
        "\n",
        "            predictions.extend(preds.cpu().numpy())\n",
        "            prediction_probs.extend(torch.nn.functional.softmax(logits, dim=1).cpu().numpy())\n",
        "            real_values.extend(labels.cpu().numpy())\n",
        "\n",
        "    predictions = np.array(predictions)\n",
        "    real_values = np.array(real_values)\n",
        "    return texts, predictions, prediction_probs, real_values\n",
        "\n",
        "texts, y_pred, y_pred_probs, y_test = get_predictions(\n",
        "    model, test_loader\n",
        ")\n"
      ],
      "metadata": {
        "colab": {
          "base_uri": "https://localhost:8080/"
        },
        "id": "ynDUTZ1QKQgP",
        "outputId": "60374989-2fdb-4738-9e54-c68cf899ff49"
      },
      "execution_count": 35,
      "outputs": [
        {
          "output_type": "stream",
          "name": "stderr",
          "text": [
            "Predicting: 100%|██████████| 22/22 [01:23<00:00,  3.77s/it]\n"
          ]
        }
      ]
    },
    {
      "cell_type": "code",
      "source": [
        "# Classification - Provided precision, recall, F1-score, and support for each class.\n",
        "print('Classification Report:')\n",
        "print(classification_report(y_test, y_pred, target_names=['Negative', 'Positive']))\n"
      ],
      "metadata": {
        "colab": {
          "base_uri": "https://localhost:8080/"
        },
        "id": "KoYJXRzqKTLW",
        "outputId": "fa839e7d-169a-41b8-ec61-e2a32b797447"
      },
      "execution_count": 36,
      "outputs": [
        {
          "output_type": "stream",
          "name": "stdout",
          "text": [
            "Classification Report:\n",
            "              precision    recall  f1-score   support\n",
            "\n",
            "    Negative       0.70      0.92      0.79        77\n",
            "    Positive       0.91      0.67      0.77        94\n",
            "\n",
            "    accuracy                           0.78       171\n",
            "   macro avg       0.80      0.80      0.78       171\n",
            "weighted avg       0.82      0.78      0.78       171\n",
            "\n"
          ]
        }
      ]
    },
    {
      "cell_type": "code",
      "source": [
        "# Confusion Matrix-  Visualized the model's performance in distinguishing between positive and negative sentiments\n",
        "cm = confusion_matrix(y_test, y_pred)\n",
        "sns.heatmap(cm, annot=True, fmt='d', cmap='Blues', xticklabels=['Negative', 'Positive'], yticklabels=['Negative', 'Positive'])\n",
        "plt.ylabel('Actual')\n",
        "plt.xlabel('Predicted')\n",
        "plt.title('Confusion Matrix')\n",
        "plt.show()\n"
      ],
      "metadata": {
        "colab": {
          "base_uri": "https://localhost:8080/",
          "height": 472
        },
        "id": "Bu39Px_TKUWH",
        "outputId": "4e37f9b1-6ea5-40a3-fbd7-6f7d6aca5937"
      },
      "execution_count": 37,
      "outputs": [
        {
          "output_type": "display_data",
          "data": {
            "text/plain": [
              "<Figure size 640x480 with 2 Axes>"
            ],
            "image/png": "[encoded data removed]"
          },
          "metadata": {}
        }
      ]
    },
    {
      "cell_type": "code",
      "source": [
        "# Accuracy Score\n",
        "acc = accuracy_score(y_test, y_pred)\n",
        "print(f'Test Accuracy: {acc:.4f}')\n"
      ],
      "metadata": {
        "colab": {
          "base_uri": "https://localhost:8080/"
        },
        "id": "KXjCRMkyKUyt",
        "outputId": "d54c7aef-7c7c-4d88-9cc4-e234375bc999"
      },
      "execution_count": 38,
      "outputs": [
        {
          "output_type": "stream",
          "name": "stdout",
          "text": [
            "Test Accuracy: 0.7836\n"
          ]
        }
      ]
    },
    {
      "cell_type": "code",
      "source": [
        "# JAX and Flax\n",
        "!pip install --upgrade \"jax[cuda]\" -f https://storage.googleapis.com/jax-releases/jax_cuda_releases.html --quiet\n",
        "!pip install flax --quiet\n",
        "\n",
        "!pip install transformers datasets --quiet\n"
      ],
      "metadata": {
        "id": "inVCVjFmRyy-"
      },
      "execution_count": 34,
      "outputs": []
    },
    {
      "cell_type": "code",
      "source": [
        "import jax\n",
        "import jax.numpy as jnp\n",
        "from flax import linen as nn\n",
        "from flax.training import train_state\n",
        "from transformers import FlaxAutoModelForSequenceClassification\n",
        "import optax\n",
        "from transformers import AutoTokenizer, FlaxAutoModelForSequenceClassification"
      ],
      "metadata": {
        "id": "dPrfsemTR1MY"
      },
      "execution_count": 35,
      "outputs": []
    },
    {
      "cell_type": "markdown",
      "source": [
        "I will use the FlaxAutoModelForSequenceClassification from Hugging Face Transformers to load the pre-trained model in JAX/Flax.\n"
      ],
      "metadata": {
        "id": "y0_2AcpZi37D"
      }
    },
    {
      "cell_type": "markdown",
      "source": [
        "I used the same tokenizer as before but ensured that the data was formatted correctly for JAX.\n",
        "\n"
      ],
      "metadata": {
        "id": "ELtY4lF5xTKO"
      }
    },
    {
      "cell_type": "code",
      "source": [
        "# tokenizer\n",
        "tokenizer = AutoTokenizer.from_pretrained(model_name)\n",
        "\n",
        "#model in Flax\n",
        "model = FlaxAutoModelForSequenceClassification.from_pretrained(model_name, num_labels=2)"
      ],
      "metadata": {
        "colab": {
          "base_uri": "https://localhost:8080/"
        },
        "id": "PejMJ8kyR5ki",
        "outputId": "dfbe5e90-5123-402e-d0ec-8acea70864d0"
      },
      "execution_count": 36,
      "outputs": [
        {
          "output_type": "stream",
          "name": "stderr",
          "text": [
            "/usr/local/lib/python3.10/dist-packages/transformers/tokenization_utils_base.py:1601: FutureWarning: `clean_up_tokenization_spaces` was not set. It will be set to `True` by default. This behavior will be depracted in transformers v4.45, and will be then set to `False` by default. For more details check this issue: https://github.com/huggingface/transformers/issues/31884\n",
            "  warnings.warn(\n",
            "Some weights of the model checkpoint at xlm-roberta-base were not used when initializing FlaxXLMRobertaForSequenceClassification: {('lm_head', 'dense', 'bias'), ('lm_head', 'bias'), ('lm_head', 'dense', 'kernel'), ('lm_head', 'layer_norm', 'bias'), ('lm_head', 'layer_norm', 'scale')}\n",
            "- This IS expected if you are initializing FlaxXLMRobertaForSequenceClassification from the checkpoint of a model trained on another task or with another architecture (e.g. initializing a BertForSequenceClassification model from a BertForPreTraining model).\n",
            "- This IS NOT expected if you are initializing FlaxXLMRobertaForSequenceClassification from the checkpoint of a model that you expect to be exactly identical (initializing a BertForSequenceClassification model from a BertForSequenceClassification model).\n",
            "Some weights of FlaxXLMRobertaForSequenceClassification were not initialized from the model checkpoint at xlm-roberta-base and are newly initialized: {('classifier', 'dense', 'bias'), ('classifier', 'dense', 'kernel'), ('classifier', 'out_proj', 'bias'), ('classifier', 'out_proj', 'kernel')}\n",
            "You should probably TRAIN this model on a down-stream task to be able to use it for predictions and inference.\n"
          ]
        }
      ]
    },
    {
      "cell_type": "code",
      "source": [
        "from datasets import Dataset\n",
        "\n",
        "# Prepare datasets\n",
        "train_data = {'text': train_texts, 'labels': train_labels}\n",
        "val_data = {'text': val_texts, 'labels': val_labels}\n",
        "test_data = {'text': test_texts, 'labels': test_labels}\n",
        "\n",
        "train_dataset = Dataset.from_dict(train_data)\n",
        "val_dataset = Dataset.from_dict(val_data)\n",
        "test_dataset = Dataset.from_dict(test_data)"
      ],
      "metadata": {
        "id": "ckqJxAx1R_K7"
      },
      "execution_count": 37,
      "outputs": []
    },
    {
      "cell_type": "markdown",
      "source": [
        "I will use the tokenizer from the pre-trained xlm-roberta-base model to tokenize the text data.\n",
        "\n",
        "Converted the datasets into Hugging Face Dataset objects and set the format to JAX tensors.\n",
        "\n"
      ],
      "metadata": {
        "id": "qua6OS33i8w-"
      }
    },
    {
      "cell_type": "code",
      "source": [
        "def tokenize_function(examples):\n",
        "    return tokenizer(\n",
        "        examples['text'],\n",
        "        truncation=True,\n",
        "        padding='max_length',\n",
        "        max_length=MAX_LEN,\n",
        "    )\n",
        "\n",
        "# Prepare datasets\n",
        "train_data = {'text': train_texts, 'labels': train_labels}\n",
        "val_data = {'text': val_texts, 'labels': val_labels}\n",
        "test_data = {'text': test_texts, 'labels': test_labels}\n",
        "\n",
        "train_dataset = Dataset.from_dict(train_data)\n",
        "val_dataset = Dataset.from_dict(val_data)\n",
        "test_dataset = Dataset.from_dict(test_data)\n",
        "\n",
        "# Tokenize datasets\n",
        "train_dataset = train_dataset.map(tokenize_function, batched=True)\n",
        "val_dataset = val_dataset.map(tokenize_function, batched=True)\n",
        "test_dataset = test_dataset.map(tokenize_function, batched=True)\n",
        "\n",
        "# Set the format to JAX tensors\n",
        "columns = ['input_ids', 'attention_mask', 'labels']\n",
        "train_dataset.set_format(type='jax', columns=columns)\n",
        "val_dataset.set_format(type='jax', columns=columns)\n",
        "test_dataset.set_format(type='jax', columns=columns)"
      ],
      "metadata": {
        "colab": {
          "base_uri": "https://localhost:8080/",
          "height": 113,
          "referenced_widgets": [
            "d4d32cdbea564cb9b8b9adc79c915981",
            "1f8a203108a24d79beb7f6e5571043fb",
            "35a91059163748c8bdce1dd6022310be",
            "e92ad704292b4d13b3c3587f416bf671",
            "cee5bb737d094ab9a70e81766e9e3bfb",
            "21bda1daa9ee480b925c5b7f54be19e3",
            "c816eaee681846979df3a29f45158730",
            "8992b900607f4c558141eb5a765ba1c1",
            "57d04601cc9240f1a274c145d6a7dbdd",
            "2726abc96823490eb9a10b6c1950bde0",
            "6287ff80ab384793b5a024aa2df1b12a",
            "615df17adf594a7980844b6124687589",
            "67fcb2c0dddf49e3b86dbde6afffdb1a",
            "44544701a9664119bbcb7933fbc130c4",
            "3dc9c6589b9a4ea2a3fb39476e3d5481",
            "dd65fcd07df0416e9ef540059e09387a",
            "22e457dac998403f9aa1ccf92e6844c8",
            "9fae7fa0157e47dbbb0a2ef261cc18dd",
            "71682fe7675c4e9a9136cca3d5ba3655",
            "3101543f8447447cb429d08afbec31ae",
            "116a8a134f1347848dbd30303311c026",
            "bf928d7b603b4658a3c1f2aa59ed66ef",
            "5e5cc256773e420499f2fe55fc963b31",
            "ea26410936954d0f8c761b50adbf9ff9",
            "79ad648b7a824b5e9091c72974841462",
            "c8929d6c8c6341d29d28293863a6ff69",
            "214760fdfe2344678230e05fbde0449d",
            "c49f069711f84a27bf53d408de4334c8",
            "8087fa169c944170aa43cfc49a576cff",
            "f2c90fe4cfab4b639e81fa89471dfbd8",
            "60fb7ed09acf468a9b045baf8a2aa0b0",
            "3fca875afa9a485caa70ea611b5b6826",
            "e2cd1752afa344b585ceb6d2ad5ce917"
          ]
        },
        "id": "w2y1kTpoSAyi",
        "outputId": "7b682a14-777c-4e8b-e25f-4cdc57a07f28"
      },
      "execution_count": 38,
      "outputs": [
        {
          "output_type": "display_data",
          "data": {
            "text/plain": [
              "Map:   0%|          | 0/1364 [00:00<?, ? examples/s]"
            ],
            "application/vnd.jupyter.widget-view+json": {
              "version_major": 2,
              "version_minor": 0,
              "model_id": "d4d32cdbea564cb9b8b9adc79c915981"
            }
          },
          "metadata": {}
        },
        {
          "output_type": "display_data",
          "data": {
            "text/plain": [
              "Map:   0%|          | 0/171 [00:00<?, ? examples/s]"
            ],
            "application/vnd.jupyter.widget-view+json": {
              "version_major": 2,
              "version_minor": 0,
              "model_id": "615df17adf594a7980844b6124687589"
            }
          },
          "metadata": {}
        },
        {
          "output_type": "display_data",
          "data": {
            "text/plain": [
              "Map:   0%|          | 0/171 [00:00<?, ? examples/s]"
            ],
            "application/vnd.jupyter.widget-view+json": {
              "version_major": 2,
              "version_minor": 0,
              "model_id": "5e5cc256773e420499f2fe55fc963b31"
            }
          },
          "metadata": {}
        }
      ]
    },
    {
      "cell_type": "markdown",
      "source": [
        "I will define the optimizer, learning rate, and training state.\n",
        "\n"
      ],
      "metadata": {
        "id": "ujp_jDq2jLg6"
      }
    },
    {
      "cell_type": "code",
      "source": [
        "from flax.training import train_state\n",
        "from typing import Any\n",
        "\n",
        "class TrainState(train_state.TrainState):\n",
        "    rng: Any  # Add PRNG key to the training state\n",
        " #One of the challenges was managing the PRNG keys required for stochastic operations like dropout."
      ],
      "metadata": {
        "id": "pMFi86pdmrdr"
      },
      "execution_count": 46,
      "outputs": []
    },
    {
      "cell_type": "code",
      "source": [
        "# my params\n",
        "learning_rate = 2e-5\n",
        "num_epochs = 3\n",
        "batch_size = 2\n",
        "\n",
        "tx = optax.adamw(learning_rate)\n",
        "\n",
        "#  parameters and PRNG key\n",
        "rng = jax.random.PRNGKey(0)\n",
        "\n",
        "# Create the training state using the custom TrainState class\n",
        "state = TrainState.create(\n",
        "    apply_fn=model.__call__,\n",
        "    params=model.params,\n",
        "    tx=tx,\n",
        "    rng=rng  #  the rng\n",
        ")"
      ],
      "metadata": {
        "id": "IzijPpxHjEUb"
      },
      "execution_count": 49,
      "outputs": []
    },
    {
      "cell_type": "markdown",
      "source": [
        "I will create data loaders to generate batches of data for training and evaluation.\n",
        "\n"
      ],
      "metadata": {
        "id": "rvUy9OoojT6-"
      }
    },
    {
      "cell_type": "code",
      "source": [
        "def data_loader(dataset, batch_size):\n",
        "    steps_per_epoch = len(dataset) // batch_size\n",
        "    while True:\n",
        "        # Shuffle dataset at each epoch\n",
        "        perm = np.random.permutation(len(dataset))\n",
        "        for i in range(steps_per_epoch):\n",
        "            batch_indices = perm[i * batch_size : (i + 1) * batch_size]\n",
        "            batch = dataset.select(batch_indices)\n",
        "            yield {\n",
        "                'input_ids': np.array(batch['input_ids']),\n",
        "                'attention_mask': np.array(batch['attention_mask']),\n",
        "                'labels': np.array(batch['labels'])\n",
        "            }\n",
        "\n",
        "# Create data loaders\n",
        "train_data_loader = data_loader(train_dataset, BATCH_SIZE)\n",
        "val_data_loader = data_loader(val_dataset, BATCH_SIZE)"
      ],
      "metadata": {
        "id": "5Nc2hluvSDDZ"
      },
      "execution_count": 42,
      "outputs": []
    },
    {
      "cell_type": "markdown",
      "source": [
        "I will define the loss function using cross-entropy loss and create a training step function with JIT compilation for efficiency."
      ],
      "metadata": {
        "id": "dIYYErUYjYy8"
      }
    },
    {
      "cell_type": "code",
      "source": [
        "def compute_loss(params, batch):\n",
        "    logits = model(\n",
        "        input_ids=batch['input_ids'],\n",
        "        attention_mask=batch['attention_mask'],\n",
        "        params=params,\n",
        "        train=True\n",
        "    ).logits\n",
        "    loss = optax.softmax_cross_entropy_with_integer_labels(\n",
        "        logits, batch['labels']\n",
        "    ).mean()\n",
        "    return loss\n",
        "\n",
        "@jax.jit\n",
        "def train_step(state, batch):\n",
        "    # Split the rng for reproducibility\n",
        "    rng, new_rng = jax.random.split(state.rng)\n",
        "\n",
        "    def loss_fn(params):\n",
        "        logits = state.apply_fn(\n",
        "            input_ids=batch['input_ids'],\n",
        "            attention_mask=batch['attention_mask'],\n",
        "            params=params,\n",
        "            dropout_rng=rng,  # Pass the rng to the model\n",
        "            train=True\n",
        "        ).logits\n",
        "        loss = optax.softmax_cross_entropy_with_integer_labels(\n",
        "            logits, batch['labels']\n",
        "        ).mean()\n",
        "        return loss\n",
        "\n",
        "    grad_fn = jax.value_and_grad(loss_fn)\n",
        "    loss, grads = grad_fn(state.params)\n",
        "\n",
        "    # Update the state with new parameters and rng\n",
        "    new_state = state.apply_gradients(grads=grads)\n",
        "    new_state = new_state.replace(rng=new_rng)\n",
        "\n",
        "    return new_state, loss\n",
        "\n"
      ],
      "metadata": {
        "id": "v_ETnITOjXAn"
      },
      "execution_count": 43,
      "outputs": []
    },
    {
      "cell_type": "markdown",
      "source": [
        "I will define an evaluation function to compute the accuracy on the validation set.\n",
        "\n"
      ],
      "metadata": {
        "id": "dNU41ZLIjjrC"
      }
    },
    {
      "cell_type": "code",
      "source": [
        "def compute_metrics(logits, labels):\n",
        "    predictions = jnp.argmax(logits, axis=-1)\n",
        "    accuracy = jnp.mean(predictions == labels)\n",
        "    return accuracy\n",
        "\n",
        "@jax.jit\n",
        "def eval_step(params, batch):\n",
        "    logits = model(\n",
        "        input_ids=batch['input_ids'],\n",
        "        attention_mask=batch['attention_mask'],\n",
        "        params=params,\n",
        "        train=False\n",
        "    ).logits\n",
        "    return compute_metrics(logits, batch['labels'])\n"
      ],
      "metadata": {
        "id": "P9U7HroGjfSU"
      },
      "execution_count": 44,
      "outputs": []
    },
    {
      "cell_type": "code",
      "source": [
        "for epoch in range(num_epochs):\n",
        "    print(f\"Epoch {epoch + 1}/{num_epochs}\")\n",
        "    # Training\n",
        "    batch_losses = []\n",
        "    for batch in tqdm(train_data_loader, total=len(train_dataset)//batch_size):\n",
        "        state, loss = train_step(state, batch)\n",
        "        batch_losses.append(loss)\n",
        "    train_loss = np.mean(batch_losses)\n",
        "    print(f\"Training loss: {train_loss:.4f}\")\n",
        "\n",
        "    # Evaluation\n",
        "    val_accuracies = []\n",
        "    for batch in tqdm(val_data_loader, total=len(val_dataset)//batch_size):\n",
        "        accuracy = eval_step(state.params, batch)\n",
        "        val_accuracies.append(accuracy)\n",
        "    val_accuracy = np.mean(val_accuracies)\n",
        "    print(f\"Validation accuracy: {val_accuracy:.4f}\")\n",
        "\n"
      ],
      "metadata": {
        "id": "0DNvEjfpjoOu"
      },
      "execution_count": null,
      "outputs": []
    },
    {
      "cell_type": "code",
      "source": [
        "# Create test data loader which generates batches of data from the test dataset\n",
        "def test_data_loader(dataset, batch_size):\n",
        "    steps = len(dataset) // batch_size\n",
        "    for i in range(steps):\n",
        "        batch = dataset[i * batch_size: (i + 1) * batch_size]\n",
        "        yield {\n",
        "            'input_ids': np.array(batch['input_ids']),\n",
        "            'attention_mask': np.array(batch['attention_mask']),\n",
        "            'labels': np.array(batch['labels'])\n",
        "        }\n",
        "\n",
        "test_loader = test_data_loader(test_dataset, batch_size)\n",
        "\n",
        "# eval on test set\n",
        "test_accuracies = []\n",
        "for batch in tqdm(test_loader, total=len(test_dataset)//batch_size):\n",
        "    accuracy = eval_step(state.params, batch)\n",
        "    test_accuracies.append(accuracy)\n",
        "test_accuracy = np.mean(test_accuracies)\n",
        "print(f\"Test accuracy: {test_accuracy:.4f}\")\n"
      ],
      "metadata": {
        "id": "_XTrnR-jnWO8"
      },
      "execution_count": null,
      "outputs": []
    },
    {
      "cell_type": "code",
      "source": [
        "# predictions and true labels\n",
        "test_loader = test_data_loader(test_dataset, batch_size)\n",
        "\n",
        "# create lists to store the predictions and true labels\n",
        "all_predictions = []\n",
        "all_labels = []\n",
        "\n",
        "# go over the test data loader\n",
        "for batch in tqdm(test_loader, total=len(test_dataset)//batch_size):\n",
        "    logits = model(\n",
        "        input_ids=batch['input_ids'],\n",
        "        attention_mask=batch['attention_mask'],\n",
        "        params=state.params,\n",
        "        train=False # make sure that the model is in eval mode\n",
        "    ).logits\n",
        "\n",
        "    # Convert logits to predictions by taking the argmax over the classes\n",
        "    predictions = jnp.argmax(logits, axis=-1)\n",
        "    all_predictions.extend(np.array(predictions))\n",
        "    all_labels.extend(np.array(batch['labels']))\n",
        "\n",
        "# Label Report\n",
        "print('Label Report:')\n",
        "print(classification_report(all_labels, all_predictions, target_names=['Negative', 'Positive']))\n",
        "\n",
        "# Confusion Matrix gives a detailed breakdown of correct and incorrect classifications.\n",
        "\n",
        "cm = confusion_matrix(all_labels, all_predictions)\n",
        "plt.figure(figsize=(6, 6))\n",
        "plt.imshow(cm, interpolation='nearest', cmap=plt.cm.Blues)\n",
        "plt.title('Confusion Matrix')\n",
        "plt.colorbar()\n",
        "tick_marks = np.arange(2)\n",
        "plt.xticks(tick_marks, ['Negative', 'Positive'], rotation=45)\n",
        "plt.yticks(tick_marks, ['Negative', 'Positive'])\n",
        "plt.tight_layout()\n",
        "plt.ylabel('True label')\n",
        "plt.xlabel('Predicted label')\n",
        "plt.show()\n"
      ],
      "metadata": {
        "id": "VVPvkvzSrk7i"
      },
      "execution_count": null,
      "outputs": []
    },
    {
      "cell_type": "markdown",
      "source": [
        "I observed  throughout this project the key differences between Pytorch and JAX.\n",
        "In PyTorch, I'm used to the object-oriented style where models are like entities with their own stat like you define  a class, and everything is encapsulated nicely. But with JAX, there's a different approach. JAX embraces functional programming, so instead of having models that hold their parameters, you pass the parameters around explicitly. At first, it felt a bit unnatural, but it made me more aware of what's happening in the process.\n",
        "\n",
        "One of the biggest differences I noticed was how randomness is handled. In PyTorch, you don't think much about random number generators—they're managed behind the scenes. In JAX, though, you have to manage PRNG keys explicitly, especially when dealing with things like dropout. This forced me to be more deliberate about the randomness in my model, which was actually enlightening.\n",
        "\n",
        "\n",
        "Another thing was JAX's just-in-time (JIT) compilation. It's good for performance optimization, but it requires your functions to be pure and side-effect-free. This was a interesting shift from PyTorch, where you can write code more freely without worrying about such constraints. Overall, working with JAX made me appreciate the functional programming paradigm and gave me new insights into how machine learning models can be structured."
      ],
      "metadata": {
        "id": "6otj8EKix8zy"
      }
    }
  ]
}